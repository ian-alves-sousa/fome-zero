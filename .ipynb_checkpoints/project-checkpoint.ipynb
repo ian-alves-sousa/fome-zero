{
 "cells": [
  {
   "cell_type": "markdown",
   "id": "bdee342b-011a-47dc-926f-9b1f06125d47",
   "metadata": {
    "jp-MarkdownHeadingCollapsed": true,
    "tags": []
   },
   "source": [
    "# Definições Iniciais"
   ]
  },
  {
   "cell_type": "code",
   "execution_count": 287,
   "id": "9fa0222c-c1dc-422e-a031-40d300415094",
   "metadata": {
    "tags": []
   },
   "outputs": [],
   "source": [
    "import pandas as pd\n",
    "import inflection"
   ]
  },
  {
   "cell_type": "code",
   "execution_count": 288,
   "id": "1f0e727b-40b4-4022-83cd-de4fb6734d9c",
   "metadata": {
    "tags": []
   },
   "outputs": [],
   "source": [
    "df = pd.read_csv('zomato.csv')\n",
    "df1 = df.copy()"
   ]
  },
  {
   "cell_type": "code",
   "execution_count": 289,
   "id": "fed7a855-3cfb-4666-8700-969351b0f667",
   "metadata": {
    "tags": []
   },
   "outputs": [
    {
     "data": {
      "text/plain": [
       "Index(['Restaurant ID', 'Restaurant Name', 'Country Code', 'City', 'Address',\n",
       "       'Locality', 'Locality Verbose', 'Longitude', 'Latitude', 'Cuisines',\n",
       "       'Average Cost for two', 'Currency', 'Has Table booking',\n",
       "       'Has Online delivery', 'Is delivering now', 'Switch to order menu',\n",
       "       'Price range', 'Aggregate rating', 'Rating color', 'Rating text',\n",
       "       'Votes'],\n",
       "      dtype='object')"
      ]
     },
     "execution_count": 289,
     "metadata": {},
     "output_type": "execute_result"
    }
   ],
   "source": [
    "df1.columns\n",
    "#df1.head()"
   ]
  },
  {
   "cell_type": "markdown",
   "id": "aef4e947-b346-40bf-954e-b09a0cc72e1e",
   "metadata": {
    "jp-MarkdownHeadingCollapsed": true,
    "tags": []
   },
   "source": [
    "# Aplicando as funções dadas no problema"
   ]
  },
  {
   "cell_type": "code",
   "execution_count": 290,
   "id": "efd510c6-cdb6-4d4e-bf73-1d7cabacf59f",
   "metadata": {},
   "outputs": [],
   "source": [
    "COUNTRIES = {\n",
    "1: \"India\",\n",
    "14: \"Australia\",\n",
    "30: \"Brazil\",\n",
    "37: \"Canada\",\n",
    "94: \"Indonesia\",\n",
    "148: \"New Zeland\",\n",
    "162: \"Philippines\",\n",
    "166: \"Qatar\",\n",
    "184: \"Singapure\",\n",
    "189: \"South Africa\",\n",
    "191: \"Sri Lanka\",\n",
    "208: \"Turkey\",\n",
    "214: \"United Arab Emirates\",\n",
    "215: \"England\",\n",
    "216: \"United States of America\",\n",
    "}\n",
    "\n",
    "def country_name(country_id):\n",
    "    return COUNTRIES[country_id]\n",
    "\n",
    "df1['Country Code'] = df.loc[:, 'Country Code'].apply(lambda x: country_name(x))"
   ]
  },
  {
   "cell_type": "code",
   "execution_count": 291,
   "id": "a8a4f5a5-5129-4fb4-b551-a8f36516d8ed",
   "metadata": {},
   "outputs": [],
   "source": [
    "def create_price_tye(price_range):\n",
    "    if price_range == 1:\n",
    "        return \"cheap\"\n",
    "    elif price_range == 2:\n",
    "        return \"normal\"\n",
    "    elif price_range == 3:\n",
    "        return \"expensive\"\n",
    "    else:\n",
    "        return \"gourmet\"\n",
    "    \n",
    "df1['Price range'] = df.loc[:, 'Price range'].apply(lambda x: create_price_tye(x))\n"
   ]
  },
  {
   "cell_type": "code",
   "execution_count": 292,
   "id": "b2cf9132-d116-4c52-ad3c-74277c4bc094",
   "metadata": {},
   "outputs": [],
   "source": [
    "COLORS = {\n",
    "\"3F7E00\": \"darkgreen\",\n",
    "\"5BA829\": \"green\",\n",
    "\"9ACD32\": \"lightgreen\",\n",
    "\"CDD614\": \"orange\",\n",
    "\"FFBA00\": \"red\",\n",
    "\"CBCBC8\": \"darkred\",\n",
    "\"FF7800\": \"darkred\",\n",
    "}\n",
    "\n",
    "def color_name(color_code):\n",
    "    return COLORS[color_code]\n",
    "\n",
    "df1['Rating color'] = df.loc[:, 'Rating color'].apply(lambda x: color_name(x))"
   ]
  },
  {
   "cell_type": "code",
   "execution_count": 293,
   "id": "fde7c33b-1ec9-4c86-8c30-62614682278a",
   "metadata": {},
   "outputs": [],
   "source": [
    "def rename_columns(dataframe):\n",
    "    df = dataframe.copy()\n",
    "    title = lambda x: inflection.titleize(x)\n",
    "    snakecase = lambda x: inflection.underscore(x)\n",
    "    spaces = lambda x: x.replace(\" \", \"\")\n",
    "    cols_old = list(df.columns)\n",
    "    cols_old = list(map(title, cols_old))\n",
    "    cols_old = list(map(spaces, cols_old))\n",
    "    cols_new = list(map(snakecase, cols_old))\n",
    "    df.columns = cols_new\n",
    "    return df\n",
    "\n",
    "df1 = rename_columns(df1)"
   ]
  },
  {
   "cell_type": "code",
   "execution_count": 294,
   "id": "e6b3a4a7-6e95-4bcd-ba8f-6584405709c3",
   "metadata": {
    "tags": []
   },
   "outputs": [],
   "source": [
    "df1['cuisines'] = df1['cuisines'].astype(str)\n",
    "df1[\"cuisines\"] = df1.loc[:, \"cuisines\"].apply(lambda x: x.split(\",\")[0])"
   ]
  },
  {
   "cell_type": "markdown",
   "id": "6cf8f6dd-d6dc-4510-a987-0eb034295ffc",
   "metadata": {
    "jp-MarkdownHeadingCollapsed": true,
    "tags": []
   },
   "source": [
    "# Limpeza do dataset"
   ]
  },
  {
   "cell_type": "markdown",
   "id": "0193bbae-3c63-4063-9da1-92b4074d5c94",
   "metadata": {
    "jp-MarkdownHeadingCollapsed": true,
    "tags": []
   },
   "source": [
    "## Deletando as colunas inúteis"
   ]
  },
  {
   "cell_type": "code",
   "execution_count": 295,
   "id": "90108e24-5c25-484d-a61e-8360f90d8a38",
   "metadata": {
    "tags": []
   },
   "outputs": [],
   "source": [
    "df1 = df1.drop(labels=['switch_to_order_menu'], axis='columns')"
   ]
  },
  {
   "cell_type": "markdown",
   "id": "28c4bed5-5d6a-4abb-9461-742478f43d0d",
   "metadata": {
    "jp-MarkdownHeadingCollapsed": true,
    "tags": []
   },
   "source": [
    "## Deletando as linhas com valores nulos"
   ]
  },
  {
   "cell_type": "code",
   "execution_count": 296,
   "id": "7574fe8a-5e1f-4cb1-aef2-e6cbebfba2f2",
   "metadata": {
    "tags": []
   },
   "outputs": [],
   "source": [
    "df1 = df1.loc[(df1['cuisines'] != 'nan'),:].copy()\n",
    "df1 = df1.loc[(df1['longitude'] != 0),:].copy()\n",
    "df1 = df1.loc[(df1['latitude'] != 0),:].copy()"
   ]
  },
  {
   "cell_type": "markdown",
   "id": "3373321d-5d50-417f-90b9-49a33abde7f6",
   "metadata": {
    "jp-MarkdownHeadingCollapsed": true,
    "tags": []
   },
   "source": [
    "## Verificando dados duplicados ou nulas"
   ]
  },
  {
   "cell_type": "code",
   "execution_count": 299,
   "id": "9e406858-50d7-4948-ac18-1be2b0c80818",
   "metadata": {
    "tags": []
   },
   "outputs": [
    {
     "data": {
      "text/plain": [
       "True"
      ]
     },
     "execution_count": 299,
     "metadata": {},
     "output_type": "execute_result"
    }
   ],
   "source": [
    "len(df1) == len(df1['restaurant_id'].unique())"
   ]
  },
  {
   "cell_type": "code",
   "execution_count": 298,
   "id": "f1682df1-b70c-4df0-8d43-8cb32854d336",
   "metadata": {
    "tags": []
   },
   "outputs": [],
   "source": [
    "df1 = df1.drop_duplicates().reset_index(drop=True)"
   ]
  },
  {
   "cell_type": "code",
   "execution_count": 200,
   "id": "6cdf2a24-acbc-45ce-a2d4-ef9cbf5be0a3",
   "metadata": {
    "tags": []
   },
   "outputs": [
    {
     "name": "stdout",
     "output_type": "stream",
     "text": [
      "A coluna restaurant_id não tem nulos: True\n",
      "A coluna restaurant_name não tem nulos: True\n",
      "A coluna country_code não tem nulos: True\n",
      "A coluna city não tem nulos: True\n",
      "A coluna address não tem nulos: True\n",
      "A coluna locality não tem nulos: True\n",
      "A coluna locality_verbose não tem nulos: True\n",
      "A coluna longitude não tem nulos: True\n",
      "A coluna latitude não tem nulos: True\n",
      "A coluna cuisines não tem nulos: True\n",
      "A coluna average_cost_for_two não tem nulos: True\n",
      "A coluna currency não tem nulos: True\n",
      "A coluna has_table_booking não tem nulos: True\n",
      "A coluna has_online_delivery não tem nulos: True\n",
      "A coluna is_delivering_now não tem nulos: True\n",
      "A coluna price_range não tem nulos: True\n",
      "A coluna aggregate_rating não tem nulos: True\n",
      "A coluna rating_color não tem nulos: True\n",
      "A coluna rating_text não tem nulos: True\n",
      "A coluna votes não tem nulos: True\n"
     ]
    }
   ],
   "source": [
    "for col in colunas:\n",
    "    nula = len(df1[pd.notnull(df1[col])]) == len(df1)\n",
    "    print(f'A coluna {col} não tem nulos: {nula}')"
   ]
  },
  {
   "cell_type": "markdown",
   "id": "bbef9a8d-ed8e-4b10-b2fa-68314b8f2c05",
   "metadata": {
    "jp-MarkdownHeadingCollapsed": true,
    "tags": []
   },
   "source": [
    "# Entendendo o Dataset"
   ]
  },
  {
   "cell_type": "markdown",
   "id": "d2fc30b1-12e1-4e26-98c1-06c0f2118446",
   "metadata": {
    "jp-MarkdownHeadingCollapsed": true,
    "tags": []
   },
   "source": [
    "## Entendo as colunas"
   ]
  },
  {
   "cell_type": "code",
   "execution_count": 300,
   "id": "2a042e92-f6c0-4270-b1cb-bff2e151d7d0",
   "metadata": {
    "tags": []
   },
   "outputs": [
    {
     "name": "stdout",
     "output_type": "stream",
     "text": [
      "restaurant_id - 6927\n",
      "restaurant_name - 5900\n",
      "country_code - 15\n",
      "city - 125\n",
      "address - 6751\n",
      "locality - 2272\n",
      "locality_verbose - 2356\n",
      "longitude - 6831\n",
      "latitude - 6818\n",
      "cuisines - 165\n",
      "average_cost_for_two - 156\n",
      "currency - 12\n",
      "has_table_booking - 2\n",
      "has_online_delivery - 2\n",
      "is_delivering_now - 2\n",
      "price_range - 4\n",
      "aggregate_rating - 30\n",
      "rating_color - 6\n",
      "rating_text - 28\n",
      "votes - 1738\n"
     ]
    }
   ],
   "source": [
    "colunas = list(df1.columns)\n",
    "for col in colunas:\n",
    "    print(f'{col} - {len(df1[col].unique())}')"
   ]
  },
  {
   "cell_type": "markdown",
   "id": "656bbcd5-5aa9-4df2-ab95-668363d647b5",
   "metadata": {
    "jp-MarkdownHeadingCollapsed": true,
    "tags": []
   },
   "source": [
    "## Entendendo os tipos"
   ]
  },
  {
   "cell_type": "code",
   "execution_count": 301,
   "id": "84dbe0c7-47c8-49a1-80bb-d797d707b28b",
   "metadata": {},
   "outputs": [
    {
     "data": {
      "text/plain": [
       "restaurant_id             int64\n",
       "restaurant_name          object\n",
       "country_code             object\n",
       "city                     object\n",
       "address                  object\n",
       "locality                 object\n",
       "locality_verbose         object\n",
       "longitude               float64\n",
       "latitude                float64\n",
       "cuisines                 object\n",
       "average_cost_for_two      int64\n",
       "currency                 object\n",
       "has_table_booking         int64\n",
       "has_online_delivery       int64\n",
       "is_delivering_now         int64\n",
       "price_range              object\n",
       "aggregate_rating        float64\n",
       "rating_color             object\n",
       "rating_text              object\n",
       "votes                     int64\n",
       "dtype: object"
      ]
     },
     "execution_count": 301,
     "metadata": {},
     "output_type": "execute_result"
    }
   ],
   "source": [
    "df1.dtypes"
   ]
  },
  {
   "cell_type": "markdown",
   "id": "5e99aa87-3678-434e-a814-b8d3592859d5",
   "metadata": {
    "jp-MarkdownHeadingCollapsed": true,
    "tags": []
   },
   "source": [
    "## Verificando as colunas com NaN"
   ]
  },
  {
   "cell_type": "code",
   "execution_count": 302,
   "id": "a465173b-1696-4e3b-8330-b30cff96627d",
   "metadata": {
    "tags": []
   },
   "outputs": [
    {
     "name": "stdout",
     "output_type": "stream",
     "text": [
      "restaurant_id tem 0 nan\n",
      "restaurant_name tem 0 nan\n",
      "country_code tem 0 nan\n",
      "city tem 0 nan\n",
      "address tem 0 nan\n",
      "locality tem 0 nan\n",
      "locality_verbose tem 0 nan\n",
      "longitude tem 0 nan\n",
      "latitude tem 0 nan\n",
      "cuisines tem 0 nan\n",
      "average_cost_for_two tem 0 nan\n",
      "currency tem 0 nan\n",
      "has_table_booking tem 0 nan\n",
      "has_online_delivery tem 0 nan\n",
      "is_delivering_now tem 0 nan\n",
      "price_range tem 0 nan\n",
      "aggregate_rating tem 0 nan\n",
      "rating_color tem 0 nan\n",
      "rating_text tem 0 nan\n",
      "votes tem 0 nan\n"
     ]
    }
   ],
   "source": [
    "na = ['nan']\n",
    "colunas = list(df1.columns)\n",
    "for col in colunas:\n",
    "    print(f'{col} tem {len(df1.loc[df1[col].isin(na),:])} {na[0]}')"
   ]
  },
  {
   "cell_type": "markdown",
   "id": "139aee9b-3bf2-4feb-9cd5-95cfdbf379e8",
   "metadata": {
    "jp-MarkdownHeadingCollapsed": true,
    "tags": []
   },
   "source": [
    "# Respondendo as perguntas"
   ]
  },
  {
   "cell_type": "markdown",
   "id": "3f8773b5-41b1-4456-bc6b-6b2c8f748d2e",
   "metadata": {
    "jp-MarkdownHeadingCollapsed": true,
    "tags": []
   },
   "source": [
    "## Geral"
   ]
  },
  {
   "cell_type": "markdown",
   "id": "a62f39f6-bf12-435d-b38a-f6f1ebf2e0cd",
   "metadata": {
    "jp-MarkdownHeadingCollapsed": true,
    "tags": []
   },
   "source": [
    "### 1. Quantos restaurantes únicos estão registrados?"
   ]
  },
  {
   "cell_type": "code",
   "execution_count": 303,
   "id": "a25b573c-3ddb-42f7-b82f-9a70b11cf773",
   "metadata": {
    "tags": []
   },
   "outputs": [
    {
     "data": {
      "text/plain": [
       "6927"
      ]
     },
     "execution_count": 303,
     "metadata": {},
     "output_type": "execute_result"
    }
   ],
   "source": [
    "re1 = len(df1['restaurant_id'].unique())\n",
    "re1"
   ]
  },
  {
   "cell_type": "markdown",
   "id": "d0ae1cb9-2cfc-44d4-bff9-30a8fa95f3a2",
   "metadata": {
    "jp-MarkdownHeadingCollapsed": true,
    "tags": []
   },
   "source": [
    "### 2. Quantos países únicos estão registrados?"
   ]
  },
  {
   "cell_type": "code",
   "execution_count": 304,
   "id": "3db4e515-3b41-4d03-94ab-ea777a03a0cf",
   "metadata": {
    "tags": []
   },
   "outputs": [
    {
     "data": {
      "text/plain": [
       "15"
      ]
     },
     "execution_count": 304,
     "metadata": {},
     "output_type": "execute_result"
    }
   ],
   "source": [
    "re2 = len(df1['country_code'].unique())\n",
    "re2"
   ]
  },
  {
   "cell_type": "markdown",
   "id": "8965481d-bb7c-4268-964d-5aef661004b0",
   "metadata": {
    "jp-MarkdownHeadingCollapsed": true,
    "tags": []
   },
   "source": [
    "### 3. Quantas cidades únicas estão registradas?"
   ]
  },
  {
   "cell_type": "code",
   "execution_count": 305,
   "id": "fc2bf6dd-f395-4dfd-b478-755920e26d42",
   "metadata": {
    "tags": []
   },
   "outputs": [
    {
     "data": {
      "text/plain": [
       "125"
      ]
     },
     "execution_count": 305,
     "metadata": {},
     "output_type": "execute_result"
    }
   ],
   "source": [
    "re3 = len(df1['city'].unique())\n",
    "re3"
   ]
  },
  {
   "cell_type": "markdown",
   "id": "d933e8d7-641c-410b-98a9-71a965a52159",
   "metadata": {
    "jp-MarkdownHeadingCollapsed": true,
    "tags": []
   },
   "source": [
    "### 4. Qual o total de avaliações feitas?"
   ]
  },
  {
   "cell_type": "code",
   "execution_count": 306,
   "id": "85a31f26-ab6e-4416-b4b2-cbc9c6c118a1",
   "metadata": {
    "tags": []
   },
   "outputs": [
    {
     "data": {
      "text/plain": [
       "4192339"
      ]
     },
     "execution_count": 306,
     "metadata": {},
     "output_type": "execute_result"
    }
   ],
   "source": [
    "re4 = df1['votes'].sum()\n",
    "re4"
   ]
  },
  {
   "cell_type": "markdown",
   "id": "affa107c-24fb-4ec2-ba16-7a0a550d04f2",
   "metadata": {
    "jp-MarkdownHeadingCollapsed": true,
    "tags": []
   },
   "source": [
    "### 5. Qual o total de tipos de culinária registrados?"
   ]
  },
  {
   "cell_type": "code",
   "execution_count": 307,
   "id": "6f84d044-7bdf-43e5-9aee-b588a0d01fba",
   "metadata": {
    "tags": []
   },
   "outputs": [
    {
     "data": {
      "text/plain": [
       "165"
      ]
     },
     "execution_count": 307,
     "metadata": {},
     "output_type": "execute_result"
    }
   ],
   "source": [
    "re5 = len(df1['cuisines'].unique())\n",
    "re5"
   ]
  },
  {
   "cell_type": "markdown",
   "id": "30b0c704-9266-4c2c-8281-f04cd0f0bd3a",
   "metadata": {
    "jp-MarkdownHeadingCollapsed": true,
    "tags": []
   },
   "source": [
    "## Pais"
   ]
  },
  {
   "cell_type": "markdown",
   "id": "981c8dd7-ff8a-47f3-96f5-77c9fae1fb66",
   "metadata": {
    "jp-MarkdownHeadingCollapsed": true,
    "tags": []
   },
   "source": [
    "### 1. Qual o nome do país que possui mais cidades registradas?"
   ]
  },
  {
   "cell_type": "code",
   "execution_count": 308,
   "id": "8e267aac-0f05-4816-b6b6-76fecd259c63",
   "metadata": {
    "tags": []
   },
   "outputs": [
    {
     "data": {
      "text/plain": [
       "'India'"
      ]
     },
     "execution_count": 308,
     "metadata": {},
     "output_type": "execute_result"
    }
   ],
   "source": [
    "re1 = df1.loc[:,['country_code','city','restaurant_id']].groupby(['country_code','city']).count().sort_values(by='country_code',ascending=False).reset_index()\n",
    "re1 = re1.loc[:,['country_code','city']].groupby(['country_code']).count().sort_values(by='city',ascending=False).reset_index()\n",
    "re1\n",
    "re1.iloc[0,0]"
   ]
  },
  {
   "cell_type": "markdown",
   "id": "909e3a9f-f90e-4306-9062-ccd47d37dd23",
   "metadata": {
    "jp-MarkdownHeadingCollapsed": true,
    "tags": []
   },
   "source": [
    "### 2. Qual o nome do país que possui mais restaurantes registrados?"
   ]
  },
  {
   "cell_type": "code",
   "execution_count": 309,
   "id": "0fe7ffe8-06d7-4f62-9b93-1955df493b8b",
   "metadata": {
    "tags": []
   },
   "outputs": [
    {
     "data": {
      "text/plain": [
       "'India'"
      ]
     },
     "execution_count": 309,
     "metadata": {},
     "output_type": "execute_result"
    }
   ],
   "source": [
    "re2 = df1.loc[:,['restaurant_id','country_code']].groupby(['country_code']).count().sort_values(by='restaurant_id',ascending=False).reset_index()\n",
    "re2.iloc[0,0]"
   ]
  },
  {
   "cell_type": "markdown",
   "id": "321a9677-412e-4285-a2af-075a2fd68205",
   "metadata": {
    "jp-MarkdownHeadingCollapsed": true,
    "tags": []
   },
   "source": [
    "### 3. Qual o nome do país que possui mais restaurantes com o nível de preço igual a 4 registrados?"
   ]
  },
  {
   "cell_type": "code",
   "execution_count": 310,
   "id": "f271cf0a-487e-42be-b0bf-3290e5c34f4e",
   "metadata": {
    "tags": []
   },
   "outputs": [
    {
     "data": {
      "text/plain": [
       "'United States of America'"
      ]
     },
     "execution_count": 310,
     "metadata": {},
     "output_type": "execute_result"
    }
   ],
   "source": [
    "re3 = df1.loc[(df1['price_range'] == 'gourmet'),['restaurant_id','country_code']].groupby(['country_code']).count().sort_values(by='restaurant_id',ascending=False).reset_index()\n",
    "re3.iloc[0,0]"
   ]
  },
  {
   "cell_type": "markdown",
   "id": "120f73d3-d80f-4ff9-9ef0-7c1419f4a9c9",
   "metadata": {
    "jp-MarkdownHeadingCollapsed": true,
    "tags": []
   },
   "source": [
    "### 4. Qual o nome do país que possui a maior quantidade de tipos de culinária distintos?"
   ]
  },
  {
   "cell_type": "code",
   "execution_count": 311,
   "id": "e1f9f952-170b-4364-927a-629cf766b5a9",
   "metadata": {
    "tags": []
   },
   "outputs": [
    {
     "data": {
      "text/plain": [
       "'India'"
      ]
     },
     "execution_count": 311,
     "metadata": {},
     "output_type": "execute_result"
    }
   ],
   "source": [
    "re4 = df1.loc[:,['country_code','cuisines','restaurant_id']].groupby(['country_code','cuisines']).count().sort_values(by='country_code',ascending=False).reset_index()\n",
    "re4 = re4.loc[:,['country_code','cuisines']].groupby(['country_code']).count().sort_values(by='cuisines',ascending=False).reset_index()\n",
    "re4\n",
    "re4.iloc[0,0]"
   ]
  },
  {
   "cell_type": "markdown",
   "id": "cac82bc2-ede7-43cf-8ead-1fb37b22a50c",
   "metadata": {
    "jp-MarkdownHeadingCollapsed": true,
    "tags": []
   },
   "source": [
    "### 5. Qual o nome do país que possui a maior quantidade de avaliações feitas?"
   ]
  },
  {
   "cell_type": "code",
   "execution_count": 312,
   "id": "b386d90c-bff4-47c3-a3d2-5a2f9fd9cfb4",
   "metadata": {
    "tags": []
   },
   "outputs": [
    {
     "data": {
      "text/plain": [
       "'India'"
      ]
     },
     "execution_count": 312,
     "metadata": {},
     "output_type": "execute_result"
    }
   ],
   "source": [
    "re5 = df1.loc[:,['votes','country_code']].groupby(['country_code']).sum().sort_values(by='votes',ascending=False).reset_index()\n",
    "re5.iloc[0,0]"
   ]
  },
  {
   "cell_type": "markdown",
   "id": "366f301b-c3a5-415a-a902-ed16ddfffbce",
   "metadata": {
    "jp-MarkdownHeadingCollapsed": true,
    "tags": []
   },
   "source": [
    "### 6. Qual o nome do país que possui a maior quantidade de restaurantes que fazem entrega?"
   ]
  },
  {
   "cell_type": "code",
   "execution_count": 313,
   "id": "0f987531-56b4-4eb3-bb3b-883ad7fa3330",
   "metadata": {
    "tags": []
   },
   "outputs": [
    {
     "data": {
      "text/plain": [
       "'India'"
      ]
     },
     "execution_count": 313,
     "metadata": {},
     "output_type": "execute_result"
    }
   ],
   "source": [
    "re6 = df1.loc[(df1['has_online_delivery'] == 1),['has_online_delivery','country_code']].groupby(['country_code']).sum().sort_values(by='has_online_delivery',ascending=False).reset_index()\n",
    "re6.iloc[0,0]"
   ]
  },
  {
   "cell_type": "markdown",
   "id": "cc4e520e-0230-4959-9768-b9a97b680cac",
   "metadata": {
    "jp-MarkdownHeadingCollapsed": true,
    "tags": []
   },
   "source": [
    "### 7. Qual o nome do país que possui a maior quantidade de restaurantes que aceitam reservas?"
   ]
  },
  {
   "cell_type": "code",
   "execution_count": 314,
   "id": "0f4d12c7-5557-4621-b9e6-4767678cf160",
   "metadata": {
    "tags": []
   },
   "outputs": [
    {
     "data": {
      "text/plain": [
       "'India'"
      ]
     },
     "execution_count": 314,
     "metadata": {},
     "output_type": "execute_result"
    }
   ],
   "source": [
    "re7 = df1.loc[(df1['has_table_booking'] == 1),['has_table_booking','country_code']].groupby(['country_code']).sum().sort_values(by='has_table_booking',ascending=False).reset_index()\n",
    "re7.iloc[0,0]"
   ]
  },
  {
   "cell_type": "markdown",
   "id": "e90d9362-b1a3-485e-970e-419e09e444e8",
   "metadata": {
    "jp-MarkdownHeadingCollapsed": true,
    "tags": []
   },
   "source": [
    "### 8. Qual o nome do país que possui, na média, a maior quantidade de avaliações registrada?"
   ]
  },
  {
   "cell_type": "code",
   "execution_count": 315,
   "id": "1cfa41a0-e4e9-49a0-88c0-d759138a1bcd",
   "metadata": {
    "tags": []
   },
   "outputs": [
    {
     "data": {
      "text/plain": [
       "'Indonesia'"
      ]
     },
     "execution_count": 315,
     "metadata": {},
     "output_type": "execute_result"
    }
   ],
   "source": [
    "re8 = round(df1.loc[:,['votes','country_code']].groupby(['country_code']).mean().sort_values(by='votes',ascending=False).reset_index(),2)\n",
    "re8.iloc[0,0]"
   ]
  },
  {
   "cell_type": "markdown",
   "id": "be8af86e-527d-4b12-9063-fd86a4d477f8",
   "metadata": {
    "jp-MarkdownHeadingCollapsed": true,
    "tags": []
   },
   "source": [
    "### 9. Qual o nome do país que possui, na média, a maior nota média registrada?"
   ]
  },
  {
   "cell_type": "code",
   "execution_count": 316,
   "id": "6cca6633-d124-4254-9cbd-60d3047874d9",
   "metadata": {
    "tags": []
   },
   "outputs": [
    {
     "data": {
      "text/plain": [
       "'Indonesia'"
      ]
     },
     "execution_count": 316,
     "metadata": {},
     "output_type": "execute_result"
    }
   ],
   "source": [
    "re9 = round(df1.loc[:,['aggregate_rating','country_code']].groupby(['country_code']).mean().sort_values(by='aggregate_rating',ascending=False).reset_index(),2)\n",
    "re9.iloc[0,0]"
   ]
  },
  {
   "cell_type": "markdown",
   "id": "53e61321-a38d-477a-895b-5f1151952679",
   "metadata": {
    "jp-MarkdownHeadingCollapsed": true,
    "tags": []
   },
   "source": [
    "### 10. Qual o nome do país que possui, na média, a menor nota média registrada?"
   ]
  },
  {
   "cell_type": "code",
   "execution_count": 317,
   "id": "91ea3b5a-4cd6-4daf-9066-d207ab029a24",
   "metadata": {
    "tags": []
   },
   "outputs": [
    {
     "data": {
      "text/plain": [
       "'Brazil'"
      ]
     },
     "execution_count": 317,
     "metadata": {},
     "output_type": "execute_result"
    }
   ],
   "source": [
    "re10 = round(df1.loc[:,['aggregate_rating','country_code']].groupby(['country_code']).mean().sort_values(by='aggregate_rating',ascending=True).reset_index(),2)\n",
    "re10.iloc[0,0]"
   ]
  },
  {
   "cell_type": "markdown",
   "id": "43ba6b68-e5d8-4fff-98da-e726683a9b6f",
   "metadata": {
    "jp-MarkdownHeadingCollapsed": true,
    "tags": []
   },
   "source": [
    "### 11. Qual a média de preço de um prato para dois por país?"
   ]
  },
  {
   "cell_type": "code",
   "execution_count": 318,
   "id": "4f14d9ac-9fb5-417a-820d-d0a91238e72b",
   "metadata": {
    "tags": []
   },
   "outputs": [
    {
     "data": {
      "text/html": [
       "<div>\n",
       "<style scoped>\n",
       "    .dataframe tbody tr th:only-of-type {\n",
       "        vertical-align: middle;\n",
       "    }\n",
       "\n",
       "    .dataframe tbody tr th {\n",
       "        vertical-align: top;\n",
       "    }\n",
       "\n",
       "    .dataframe thead th {\n",
       "        text-align: right;\n",
       "    }\n",
       "</style>\n",
       "<table border=\"1\" class=\"dataframe\">\n",
       "  <thead>\n",
       "    <tr style=\"text-align: right;\">\n",
       "      <th></th>\n",
       "      <th>country_code</th>\n",
       "      <th>average_cost_for_two</th>\n",
       "    </tr>\n",
       "  </thead>\n",
       "  <tbody>\n",
       "    <tr>\n",
       "      <th>0</th>\n",
       "      <td>Indonesia</td>\n",
       "      <td>303000.00</td>\n",
       "    </tr>\n",
       "    <tr>\n",
       "      <th>1</th>\n",
       "      <td>Australia</td>\n",
       "      <td>139735.73</td>\n",
       "    </tr>\n",
       "    <tr>\n",
       "      <th>2</th>\n",
       "      <td>Sri Lanka</td>\n",
       "      <td>2579.38</td>\n",
       "    </tr>\n",
       "    <tr>\n",
       "      <th>3</th>\n",
       "      <td>Philippines</td>\n",
       "      <td>1227.82</td>\n",
       "    </tr>\n",
       "    <tr>\n",
       "      <th>4</th>\n",
       "      <td>India</td>\n",
       "      <td>704.47</td>\n",
       "    </tr>\n",
       "    <tr>\n",
       "      <th>5</th>\n",
       "      <td>South Africa</td>\n",
       "      <td>339.23</td>\n",
       "    </tr>\n",
       "    <tr>\n",
       "      <th>6</th>\n",
       "      <td>Qatar</td>\n",
       "      <td>174.00</td>\n",
       "    </tr>\n",
       "    <tr>\n",
       "      <th>7</th>\n",
       "      <td>United Arab Emirates</td>\n",
       "      <td>153.72</td>\n",
       "    </tr>\n",
       "    <tr>\n",
       "      <th>8</th>\n",
       "      <td>Singapure</td>\n",
       "      <td>141.44</td>\n",
       "    </tr>\n",
       "    <tr>\n",
       "      <th>9</th>\n",
       "      <td>Brazil</td>\n",
       "      <td>138.81</td>\n",
       "    </tr>\n",
       "    <tr>\n",
       "      <th>10</th>\n",
       "      <td>Turkey</td>\n",
       "      <td>128.58</td>\n",
       "    </tr>\n",
       "    <tr>\n",
       "      <th>11</th>\n",
       "      <td>New Zeland</td>\n",
       "      <td>62.15</td>\n",
       "    </tr>\n",
       "    <tr>\n",
       "      <th>12</th>\n",
       "      <td>United States of America</td>\n",
       "      <td>55.03</td>\n",
       "    </tr>\n",
       "    <tr>\n",
       "      <th>13</th>\n",
       "      <td>England</td>\n",
       "      <td>43.51</td>\n",
       "    </tr>\n",
       "    <tr>\n",
       "      <th>14</th>\n",
       "      <td>Canada</td>\n",
       "      <td>41.86</td>\n",
       "    </tr>\n",
       "  </tbody>\n",
       "</table>\n",
       "</div>"
      ],
      "text/plain": [
       "                country_code  average_cost_for_two\n",
       "0                  Indonesia             303000.00\n",
       "1                  Australia             139735.73\n",
       "2                  Sri Lanka               2579.38\n",
       "3                Philippines               1227.82\n",
       "4                      India                704.47\n",
       "5               South Africa                339.23\n",
       "6                      Qatar                174.00\n",
       "7       United Arab Emirates                153.72\n",
       "8                  Singapure                141.44\n",
       "9                     Brazil                138.81\n",
       "10                    Turkey                128.58\n",
       "11                New Zeland                 62.15\n",
       "12  United States of America                 55.03\n",
       "13                   England                 43.51\n",
       "14                    Canada                 41.86"
      ]
     },
     "execution_count": 318,
     "metadata": {},
     "output_type": "execute_result"
    }
   ],
   "source": [
    "re11 = round(df1.loc[:,['average_cost_for_two','country_code']].groupby(['country_code']).mean().sort_values(by='average_cost_for_two',ascending=False).reset_index(),2)\n",
    "re11"
   ]
  },
  {
   "cell_type": "markdown",
   "id": "0d084516-e4b2-4062-8036-0509d35fcb85",
   "metadata": {
    "jp-MarkdownHeadingCollapsed": true,
    "tags": []
   },
   "source": [
    "## Cidade"
   ]
  },
  {
   "cell_type": "markdown",
   "id": "2e880ad4-c687-4985-b057-a7a618a438f2",
   "metadata": {
    "jp-MarkdownHeadingCollapsed": true,
    "tags": []
   },
   "source": [
    "### 1. Qual o nome da cidade que possui mais restaurantes registrados?"
   ]
  },
  {
   "cell_type": "code",
   "execution_count": null,
   "id": "e32777ed-4f5f-4296-893a-8e6fb684a98f",
   "metadata": {},
   "outputs": [],
   "source": []
  },
  {
   "cell_type": "markdown",
   "id": "8db4fe94-84a0-45b5-98b8-26cbe82b316d",
   "metadata": {},
   "source": [
    "### 2. Qual o nome da cidade que possui mais restaurantes com nota média acima de 4?"
   ]
  },
  {
   "cell_type": "code",
   "execution_count": null,
   "id": "6131253c-4740-43d4-a9c0-e2b7bc4f16f9",
   "metadata": {},
   "outputs": [],
   "source": []
  },
  {
   "cell_type": "markdown",
   "id": "192f121b-40b2-48e9-93b8-ba5b5cba434e",
   "metadata": {},
   "source": [
    "### 3. Qual o nome da cidade que possui mais restaurantes com nota média abaixo de 2.5?"
   ]
  },
  {
   "cell_type": "code",
   "execution_count": null,
   "id": "af3055ba-7edb-4af1-a7bc-adbdfaf99481",
   "metadata": {},
   "outputs": [],
   "source": []
  },
  {
   "cell_type": "markdown",
   "id": "1f03d3cc-b2b6-4cac-9ab8-710ee24cb64e",
   "metadata": {},
   "source": [
    "### 4. Qual o nome da cidade que possui o maior valor médio de um prato para dois?"
   ]
  },
  {
   "cell_type": "code",
   "execution_count": null,
   "id": "41ee22fa-3e4b-4992-908f-405e5d41bbf3",
   "metadata": {},
   "outputs": [],
   "source": []
  },
  {
   "cell_type": "markdown",
   "id": "80ce7bbd-a1a6-4b8b-a4e7-a7aa8dadae7b",
   "metadata": {},
   "source": [
    "### 5. Qual o nome da cidade que possui a maior quantidade de tipos de culinária distintas?"
   ]
  },
  {
   "cell_type": "code",
   "execution_count": null,
   "id": "1455db3f-7050-4b4b-b3d2-268d9d59e649",
   "metadata": {},
   "outputs": [],
   "source": []
  },
  {
   "cell_type": "markdown",
   "id": "0579db09-a5a5-4b22-a211-b54aac9fc5a8",
   "metadata": {},
   "source": [
    "### 6. Qual o nome da cidade que possui a maior quantidade de restaurantes que fazem reservas?"
   ]
  },
  {
   "cell_type": "code",
   "execution_count": null,
   "id": "021c94f2-b972-458d-a9d6-4fdfde0e796e",
   "metadata": {},
   "outputs": [],
   "source": []
  },
  {
   "cell_type": "markdown",
   "id": "8772b3d0-5bba-4500-8d42-460080f582c6",
   "metadata": {},
   "source": [
    "### 7. Qual o nome da cidade que possui a maior quantidade de restaurantes que fazem entregas?"
   ]
  },
  {
   "cell_type": "code",
   "execution_count": null,
   "id": "6e4ae1f8-6566-4cfe-9005-3777676f10e7",
   "metadata": {},
   "outputs": [],
   "source": []
  },
  {
   "cell_type": "markdown",
   "id": "4b8bb936-b64b-4ade-bb2a-e3d9ed7b45d1",
   "metadata": {},
   "source": [
    "### 8. Qual o nome da cidade que possui a maior quantidade de restaurantes que aceitam pedidos online?"
   ]
  },
  {
   "cell_type": "code",
   "execution_count": null,
   "id": "069a689a-bc16-4dd6-9213-8c7d16bce3c0",
   "metadata": {},
   "outputs": [],
   "source": []
  },
  {
   "cell_type": "markdown",
   "id": "de88a5bd-d8a8-4645-9828-10a901293419",
   "metadata": {
    "jp-MarkdownHeadingCollapsed": true,
    "tags": []
   },
   "source": [
    "## Restaurantes"
   ]
  },
  {
   "cell_type": "markdown",
   "id": "4db28899-b01c-486d-adbd-47471bae3329",
   "metadata": {},
   "source": [
    "### 1. Qual o nome do restaurante que possui a maior quantidade de avaliações?"
   ]
  },
  {
   "cell_type": "code",
   "execution_count": null,
   "id": "67d02aad-a27d-4f07-86d1-c91693c72db5",
   "metadata": {},
   "outputs": [],
   "source": []
  },
  {
   "cell_type": "markdown",
   "id": "6dca72be-9e3a-4f37-8510-c65dae6a7762",
   "metadata": {},
   "source": [
    "### 2. Qual o nome do restaurante com a maior nota média?"
   ]
  },
  {
   "cell_type": "code",
   "execution_count": null,
   "id": "817e4196-eafb-458f-8431-8353ec9b9855",
   "metadata": {},
   "outputs": [],
   "source": []
  },
  {
   "cell_type": "markdown",
   "id": "72e5ff7c-ba0b-4e7a-b0b8-5933d864c33d",
   "metadata": {},
   "source": [
    "### 3. Qual o nome do restaurante que possui o maior valor de uma prato para duas pessoas?"
   ]
  },
  {
   "cell_type": "code",
   "execution_count": null,
   "id": "e878a019-cf00-4093-8c76-12af670f167c",
   "metadata": {},
   "outputs": [],
   "source": []
  },
  {
   "cell_type": "markdown",
   "id": "4aa678b0-a905-47eb-9f7c-e10f2df20ce6",
   "metadata": {},
   "source": [
    "### 4. Qual o nome do restaurante de tipo de culinária brasileira que possui a menor média de avaliação?"
   ]
  },
  {
   "cell_type": "code",
   "execution_count": null,
   "id": "219e8e2b-fe45-4894-adcd-43cf9404793a",
   "metadata": {},
   "outputs": [],
   "source": []
  },
  {
   "cell_type": "markdown",
   "id": "a005d373-a1c7-462c-a2c7-778989b21273",
   "metadata": {},
   "source": [
    "### 5. Qual o nome do restaurante de tipo de culinária brasileira, e que é do Brasil, que possui a maior média de avaliação?"
   ]
  },
  {
   "cell_type": "code",
   "execution_count": null,
   "id": "ec0bc33d-4e84-4a7c-889e-99e30491f4e4",
   "metadata": {},
   "outputs": [],
   "source": []
  },
  {
   "cell_type": "markdown",
   "id": "bd991978-18e4-49af-89e6-dacc93f11ef3",
   "metadata": {},
   "source": [
    "### 6. Os restaurantes que aceitam pedido online são também, na média, os restaurantes que mais possuem avaliações registradas?"
   ]
  },
  {
   "cell_type": "code",
   "execution_count": null,
   "id": "c5bc4941-870e-4e1b-9836-95890c816212",
   "metadata": {},
   "outputs": [],
   "source": []
  },
  {
   "cell_type": "markdown",
   "id": "0023b8d3-72c6-486d-876d-158945701a60",
   "metadata": {},
   "source": [
    "### 7. Os restaurantes que fazem reservas são também, na média, os restaurantes que possuem o maior valor médio de um prato para duas pessoas?"
   ]
  },
  {
   "cell_type": "code",
   "execution_count": null,
   "id": "7420a4b3-a5dd-4b8e-b890-22ccba535f0b",
   "metadata": {},
   "outputs": [],
   "source": []
  },
  {
   "cell_type": "markdown",
   "id": "a0ff3df6-3c09-43c9-9be4-7c2b2c1a9ad3",
   "metadata": {},
   "source": [
    "### 8. Os restaurantes do tipo de culinária japonesa dos Estados Unidos da América possuem um valor médio de prato para duas pessoas maior que as churrascarias americanas (BBQ)?"
   ]
  },
  {
   "cell_type": "code",
   "execution_count": null,
   "id": "10f3eec9-e0cd-45fb-95bf-b62a751adf94",
   "metadata": {},
   "outputs": [],
   "source": []
  },
  {
   "cell_type": "markdown",
   "id": "dd099cb2-639c-4869-a727-af1bc0e67946",
   "metadata": {
    "jp-MarkdownHeadingCollapsed": true,
    "tags": []
   },
   "source": [
    "## Tipos de Culinária"
   ]
  },
  {
   "cell_type": "markdown",
   "id": "c7409ae7-d2e5-4532-b1ad-e4147e021f22",
   "metadata": {},
   "source": [
    "### 1. Dos restaurantes que possuem o tipo de culinária italiana, qual o nome do restaurante com a maior média de avaliação?"
   ]
  },
  {
   "cell_type": "code",
   "execution_count": null,
   "id": "2c3af897-83d8-40db-910b-e86baf8c0eb9",
   "metadata": {},
   "outputs": [],
   "source": []
  },
  {
   "cell_type": "markdown",
   "id": "945dcea5-ce96-432e-8c7b-f489f19c8b84",
   "metadata": {},
   "source": [
    "### 2. Dos restaurantes que possuem o tipo de culinária italiana, qual o nome do restaurante com a menor média de avaliação?"
   ]
  },
  {
   "cell_type": "code",
   "execution_count": null,
   "id": "4ecb4e24-a322-4473-9b63-836e77dd40b1",
   "metadata": {},
   "outputs": [],
   "source": []
  },
  {
   "cell_type": "markdown",
   "id": "1af3876f-3edc-47a1-85cc-3339be8c04ea",
   "metadata": {},
   "source": [
    "### 3. Dos restaurantes que possuem o tipo de culinária americana, qual o nome do restaurante com a maior média de avaliação?"
   ]
  },
  {
   "cell_type": "code",
   "execution_count": null,
   "id": "42375d39-65db-44a9-966b-f09d6fb99140",
   "metadata": {},
   "outputs": [],
   "source": []
  },
  {
   "cell_type": "markdown",
   "id": "343b9d04-81ea-42ac-8fba-983da05341fb",
   "metadata": {},
   "source": [
    "### 4. Dos restaurantes que possuem o tipo de culinária americana, qual o nome do restaurante com a menor média de avaliação?"
   ]
  },
  {
   "cell_type": "markdown",
   "id": "32578884-c254-4ac2-9394-638fc4f77728",
   "metadata": {},
   "source": []
  },
  {
   "cell_type": "markdown",
   "id": "acf79cba-48f0-4acb-bf08-d3e29d3da7a9",
   "metadata": {},
   "source": [
    "### 5. Dos restaurantes que possuem o tipo de culinária árabe, qual o nome do restaurante com a maior média de avaliação?"
   ]
  },
  {
   "cell_type": "code",
   "execution_count": null,
   "id": "e8220d76-1a89-423a-91e6-b88425369a56",
   "metadata": {},
   "outputs": [],
   "source": []
  },
  {
   "cell_type": "markdown",
   "id": "dfa77614-3d48-423f-a4d9-0429f1846bfc",
   "metadata": {
    "tags": []
   },
   "source": [
    "### 6. Dos restaurantes que possuem o tipo de culinária árabe, qual o nome do restaurante com a menor média de avaliação?"
   ]
  },
  {
   "cell_type": "code",
   "execution_count": null,
   "id": "7f58b2be-5b89-4c95-8852-8294c740ee0c",
   "metadata": {},
   "outputs": [],
   "source": []
  },
  {
   "cell_type": "markdown",
   "id": "9e31fe5a-3c9f-47db-8a0f-e95fffc29d4d",
   "metadata": {},
   "source": [
    "### 7. Dos restaurantes que possuem o tipo de culinária japonesa, qual o nome do restaurante com a maior média de avaliação?"
   ]
  },
  {
   "cell_type": "code",
   "execution_count": null,
   "id": "55641c31-a089-48dc-9949-c5d11b7da7e0",
   "metadata": {},
   "outputs": [],
   "source": []
  },
  {
   "cell_type": "markdown",
   "id": "2d16feb5-578b-4af6-99e4-bcdbc4c627d9",
   "metadata": {},
   "source": [
    "### 8. Dos restaurantes que possuem o tipo de culinária japonesa, qual o nome do restaurante com a menor média de avaliação?"
   ]
  },
  {
   "cell_type": "code",
   "execution_count": null,
   "id": "3ebcce11-4bfd-4e0d-a0d5-a57180c89c9b",
   "metadata": {},
   "outputs": [],
   "source": []
  },
  {
   "cell_type": "markdown",
   "id": "cf2fd2af-a25b-44a4-97d5-50ddcdb600a1",
   "metadata": {},
   "source": [
    "### 9. Dos restaurantes que possuem o tipo de culinária caseira, qual o nome do restaurante com a maior média de avaliação?"
   ]
  },
  {
   "cell_type": "code",
   "execution_count": null,
   "id": "834be3d3-8d22-47ca-a074-4b892d943094",
   "metadata": {},
   "outputs": [],
   "source": []
  },
  {
   "cell_type": "markdown",
   "id": "eae63277-ff80-4481-b043-555378e2dd42",
   "metadata": {},
   "source": [
    "### 10. Dos restaurantes que possuem o tipo de culinária caseira, qual o nome do restaurante com a menor média de avaliação?"
   ]
  },
  {
   "cell_type": "code",
   "execution_count": null,
   "id": "bce00cdf-be92-40bc-b795-2a0aaa056a7c",
   "metadata": {},
   "outputs": [],
   "source": []
  },
  {
   "cell_type": "markdown",
   "id": "1762e128-38f9-42e7-af15-674875bbc548",
   "metadata": {},
   "source": [
    "### 11. Qual o tipo de culinária que possui o maior valor médio de um prato para duas pessoas?"
   ]
  },
  {
   "cell_type": "code",
   "execution_count": null,
   "id": "7b7b2a6a-5622-406e-bc52-bc8902b60b5d",
   "metadata": {},
   "outputs": [],
   "source": []
  },
  {
   "cell_type": "markdown",
   "id": "28201fd0-5f42-49c4-8112-7aac1eff3ae6",
   "metadata": {},
   "source": [
    "### 12. Qual o tipo de culinária que possui a maior nota média?"
   ]
  },
  {
   "cell_type": "code",
   "execution_count": null,
   "id": "8aac69d4-e282-4d7e-841d-e5b696e433a6",
   "metadata": {},
   "outputs": [],
   "source": []
  },
  {
   "cell_type": "markdown",
   "id": "d1c83df8-4d94-49c3-b12b-5575c9f6e45a",
   "metadata": {},
   "source": [
    "### 13. Qual o tipo de culinária que possui mais restaurantes que aceitam pedidos online e fazem entregas?"
   ]
  },
  {
   "cell_type": "code",
   "execution_count": null,
   "id": "ff6aa19d-85c1-454b-a6a6-6fd39f4bea88",
   "metadata": {},
   "outputs": [],
   "source": []
  }
 ],
 "metadata": {
  "kernelspec": {
   "display_name": "Python 3 (ipykernel)",
   "language": "python",
   "name": "python3"
  },
  "language_info": {
   "codemirror_mode": {
    "name": "ipython",
    "version": 3
   },
   "file_extension": ".py",
   "mimetype": "text/x-python",
   "name": "python",
   "nbconvert_exporter": "python",
   "pygments_lexer": "ipython3",
   "version": "3.8.16"
  }
 },
 "nbformat": 4,
 "nbformat_minor": 5
}
